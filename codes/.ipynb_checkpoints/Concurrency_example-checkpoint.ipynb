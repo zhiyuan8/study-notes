{
 "cells": [
  {
   "cell_type": "markdown",
   "metadata": {},
   "source": [
    "# Multi-threading vs sync, sum example\n",
    "https://www.educative.io/courses/python-concurrency-for-senior-engineering-interviews/NEm20mBZZy6"
   ]
  },
  {
   "cell_type": "code",
   "execution_count": 6,
   "metadata": {},
   "outputs": [],
   "source": [
    "from threading import Thread\n",
    "from multiprocessing import Process\n",
    "import multiprocessing\n",
    "import time"
   ]
  },
  {
   "cell_type": "code",
   "execution_count": 7,
   "metadata": {},
   "outputs": [],
   "source": [
    "class SumUpClass:\n",
    "\n",
    "    def __init__(self):\n",
    "        self.counter = 0\n",
    "\n",
    "    def add_integers(self, start, end):\n",
    "        for i in range(start, end + 1):\n",
    "            self.counter += i\n",
    "\n",
    "    def get_counter(self):\n",
    "        return self.counter\n",
    "\n",
    "def single_thread():\n",
    "    obj = SumUpClass();\n",
    "    start = time.time();\n",
    "    obj.add_integers(1, 30000000)\n",
    "    end = time.time() - start\n",
    "    print(\"single threaded took : {} seconds and summed to {}\".format(end, obj.counter))\n",
    "\n",
    "# IMPORTANT, must learn\n",
    "def multiple_threads():\n",
    "    obj1 = SumUpClass()\n",
    "    obj2 = SumUpClass()\n",
    "    start = time.time()\n",
    "\n",
    "    t1 = Thread(target=obj1.add_integers, args=(1, 15000000,)) # grammar for thread?\n",
    "    t2 = Thread(target=obj2.add_integers, args=(15000001, 30000000))\n",
    "\n",
    "    t1.start()\n",
    "    t2.start()\n",
    "\n",
    "    t1.join() # what does join do?\n",
    "    t2.join()\n",
    "    combined_sum = obj1.counter + obj2.counter\n",
    "    end = time.time() - start\n",
    "    print(\"multiple threads took : {} seconds and summed to {}\".format(end, combined_sum))"
   ]
  },
  {
   "cell_type": "code",
   "execution_count": 8,
   "metadata": {},
   "outputs": [
    {
     "name": "stdout",
     "output_type": "stream",
     "text": [
      "System has 8 CPUs\n",
      "single threaded took : 3.3199009895324707 seconds and summed to 450000015000000\n",
      "multiple threads took : 3.3366470336914062 seconds and summed to 450000015000000\n"
     ]
    }
   ],
   "source": [
    "print(\"System has {0} CPUs\".format(multiprocessing.cpu_count()))\n",
    "single_thread()\n",
    "multiple_threads()"
   ]
  },
  {
   "cell_type": "markdown",
   "metadata": {},
   "source": [
    "# Multi-threading counter example"
   ]
  },
  {
   "cell_type": "markdown",
   "metadata": {},
   "source": [
    "### Counter, a simple integer counter that does not support any concurrency."
   ]
  },
  {
   "cell_type": "code",
   "execution_count": 12,
   "metadata": {},
   "outputs": [],
   "source": [
    "class SingleThreadCounter(object):\n",
    "    def __init__(self):\n",
    "        self.value = 0\n",
    "        \n",
    "    def increment(self):\n",
    "        self.value += 1"
   ]
  },
  {
   "cell_type": "markdown",
   "metadata": {},
   "source": [
    "### FastReadCounter, a counter that is thread-safe and is faster at reading than writing."
   ]
  },
  {
   "cell_type": "code",
   "execution_count": 13,
   "metadata": {},
   "outputs": [],
   "source": [
    "# https://julien.danjou.info/atomic-lock-free-counters-in-python/\n",
    "# locked on write, very slow， query class.value is fast\n",
    "\n",
    "class FastReadCounter(object):\n",
    "    def __init__(self):\n",
    "        self.value = 0\n",
    "        self._lock = threading.Lock()\n",
    "        \n",
    "    def increment(self):\n",
    "        with self._lock: # equal to acquire + release\n",
    "            self.value += 1\n",
    "            '''\n",
    "            self.lock.acquire()\n",
    "            self.count += 1\n",
    "            self.lock.release()\n",
    "            '''\n",
    "            \n",
    "    def value(self):\n",
    "        with self._lock:\n",
    "            return self.value"
   ]
  },
  {
   "cell_type": "markdown",
   "metadata": {},
   "source": [
    "### Fast a counter that is thread-safe and is faster at writing than reading.\n",
    "There's a way to implement a thread-safe counter in Python that does not need to be locked on write. It's a trick that should only work on CPython because of the Global Interpreter Lock.  \n",
    "the counter is just incremented without any lock. The GIL protects concurrent access to the internal data structure in C, so there's no need for us to lock anything.   \n",
    "The value method increments the counter and then gets the value while subtracting the number of times the counter has been read (and therefore incremented for nothing)."
   ]
  },
  {
   "cell_type": "code",
   "execution_count": 14,
   "metadata": {},
   "outputs": [],
   "source": [
    "import itertools\n",
    "import threading\n",
    "\n",
    "class FastWriteCounter(object):\n",
    "    def __init__(self):\n",
    "        self._number_of_read = 0\n",
    "        self._counter = itertools.count()\n",
    "        self._read_lock = threading.Lock()\n",
    "\n",
    "    def increment(self):\n",
    "        next(self._counter)\n",
    "\n",
    "    def value(self):\n",
    "        with self._read_lock:\n",
    "            value = next(self._counter) - self._number_of_read\n",
    "            self._number_of_read += 1\n",
    "        return value"
   ]
  },
  {
   "cell_type": "code",
   "execution_count": 16,
   "metadata": {},
   "outputs": [
    {
     "name": "stdout",
     "output_type": "stream",
     "text": [
      "STC write speed:  0.22352218627929688\n",
      "FRC write speed:  0.4771120548248291\n",
      "FWC write speed:  0.20882582664489746\n"
     ]
    }
   ],
   "source": [
    "import time\n",
    "N = 1000000\n",
    "\n",
    "start = time.time()\n",
    "STC = SingleThreadCounter()\n",
    "for i in range(N):\n",
    "    STC.increment()\n",
    "print(\"STC write speed: \",time.time()-start)\n",
    "\n",
    "start = time.time()\n",
    "FRC = FastReadCounter()\n",
    "for i in range(N):\n",
    "    FRC.increment()\n",
    "print(\"FRC write speed: \",time.time()-start)\n",
    "\n",
    "start = time.time()\n",
    "FWC = FastWriteCounter()\n",
    "for i in range(N):\n",
    "    FWC.increment()\n",
    "print(\"FWC write speed: \",time.time()-start)"
   ]
  },
  {
   "cell_type": "markdown",
   "metadata": {},
   "source": [
    "# Thread-safe Hashtable"
   ]
  },
  {
   "cell_type": "code",
   "execution_count": null,
   "metadata": {},
   "outputs": [],
   "source": []
  },
  {
   "cell_type": "markdown",
   "metadata": {},
   "source": [
    "# Practice threading\n",
    "https://www.educative.io/courses/python-concurrency-for-senior-engineering-interviews/myBBVj1GonR"
   ]
  },
  {
   "cell_type": "code",
   "execution_count": 18,
   "metadata": {},
   "outputs": [
    {
     "name": "stdout",
     "output_type": "stream",
     "text": [
      "demoThread received the arguments: 1 2 3 777 111\n"
     ]
    }
   ],
   "source": [
    "from threading import Thread\n",
    "from threading import current_thread\n",
    "\n",
    "\n",
    "def thread_task(a, b, c, key1, key2):\n",
    "    print(\"{0} received the arguments: {1} {2} {3} {4} {5}\".format(current_thread().getName(), a, b, c, key1, key2))\n",
    "\n",
    "\n",
    "myThread = Thread(group=None,  # reserved\n",
    "                  target=thread_task,  # callable object\n",
    "                  name=\"demoThread\",  # name of thread\n",
    "                  args=(1, 2, 3),  # arguments passed to the target\n",
    "                  kwargs={'key1': 777,\n",
    "                          'key2': 111},  # dictionary of keyword arguments\n",
    "                  daemon=None  # set true to make the thread a daemon\n",
    "                  )\n",
    "\n",
    "myThread.start()  # start the thread\n",
    "myThread.join()  # wait for the thread to complete"
   ]
  },
  {
   "cell_type": "markdown",
   "metadata": {},
   "source": [
    "We can only override the run() method and the constructor of the Thread class.\n",
    "\n",
    "Thread.__init__() must be invoked if the subclass choses to override the constructor.\n",
    "\n",
    "Note that the args or kwargs don't get passed to the run method."
   ]
  },
  {
   "cell_type": "code",
   "execution_count": 19,
   "metadata": {},
   "outputs": [
    {
     "name": "stdout",
     "output_type": "stream",
     "text": [
      "subclassThread is executing\n",
      "MainThread exiting\n"
     ]
    }
   ],
   "source": [
    "class MyTask(Thread):\n",
    "\n",
    "    def __init__(self):\n",
    "        # The two args will not get passed to the overridden\n",
    "        # run method.\n",
    "        Thread.__init__(self, name=\"subclassThread\", args=(2, 3))\n",
    "\n",
    "    def run(self):\n",
    "        print(\"{0} is executing\".format(current_thread().getName()))\n",
    "\n",
    "\n",
    "myTask = MyTask()\n",
    "\n",
    "myTask.start()  # start the thread\n",
    "\n",
    "myTask.join()  # wait for the thread to complete\n",
    "\n",
    "print(\"{0} exiting\".format(current_thread().getName()))"
   ]
  },
  {
   "cell_type": "markdown",
   "metadata": {},
   "source": [
    "# Daemon thread\n",
    "The difference between a regular thread and a daemon thread is that a Python program will not exit until all regular/user threads terminate. However, a program may exit if the daemon thread is still not finished."
   ]
  },
  {
   "cell_type": "code",
   "execution_count": null,
   "metadata": {},
   "outputs": [],
   "source": [
    "The difference between a regular thread and a daemon thread is that a Python program will not exit until all regular/user threads terminate. However, a program may exit if the daemon thread is still not finished."
   ]
  }
 ],
 "metadata": {
  "kernelspec": {
   "display_name": "Python 3",
   "language": "python",
   "name": "python3"
  },
  "language_info": {
   "codemirror_mode": {
    "name": "ipython",
    "version": 3
   },
   "file_extension": ".py",
   "mimetype": "text/x-python",
   "name": "python",
   "nbconvert_exporter": "python",
   "pygments_lexer": "ipython3",
   "version": "3.8.2"
  }
 },
 "nbformat": 4,
 "nbformat_minor": 4
}
